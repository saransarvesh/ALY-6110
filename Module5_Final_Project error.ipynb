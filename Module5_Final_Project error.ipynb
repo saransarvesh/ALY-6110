{
  "nbformat": 4,
  "nbformat_minor": 0,
  "metadata": {
    "colab": {
      "provenance": [],
      "authorship_tag": "ABX9TyN+Vfwu8zfkvbBG7FOczSJ3",
      "include_colab_link": true
    },
    "kernelspec": {
      "name": "python3",
      "display_name": "Python 3"
    },
    "language_info": {
      "name": "python"
    }
  },
  "cells": [
    {
      "cell_type": "markdown",
      "metadata": {
        "id": "view-in-github",
        "colab_type": "text"
      },
      "source": [
        "<a href=\"https://colab.research.google.com/github/saransarvesh/ALY-6110/blob/main/Module5_Final_Project%20error.ipynb\" target=\"_parent\"><img src=\"https://colab.research.google.com/assets/colab-badge.svg\" alt=\"Open In Colab\"/></a>"
      ]
    },
    {
      "cell_type": "code",
      "execution_count": null,
      "metadata": {
        "id": "e2E686yDdBad"
      },
      "outputs": [],
      "source": [
        "# install java\n",
        "!apt-get install openjdk-8-jdk-headless -qq > /dev/null\n",
        "\n",
        "# install spark (change the version number if needed)\n",
        "!wget -q https://archive.apache.org/dist/spark/spark-3.0.0/spark-3.0.0-bin-hadoop3.2.tgz\n",
        "\n",
        "# unzip the spark file to the current folder\n",
        "!tar xf spark-3.0.0-bin-hadoop3.2.tgz\n",
        "\n",
        "# set your spark folder to your system path environment. \n",
        "import os\n",
        "os.environ[\"JAVA_HOME\"] = \"/usr/lib/jvm/java-8-openjdk-amd64\"\n",
        "os.environ[\"SPARK_HOME\"] = \"/content/spark-3.0.0-bin-hadoop3.2\"\n",
        "\n",
        "\n",
        "# install findspark using pip\n",
        "!pip install -q findspark"
      ]
    },
    {
      "cell_type": "code",
      "source": [
        "import findspark\n",
        "findspark.init()\n",
        "from pyspark.sql import SparkSession\n",
        "spark = SparkSession.builder.master(\"local[*]\").getOrCreate()\n",
        "spark"
      ],
      "metadata": {
        "colab": {
          "base_uri": "https://localhost:8080/",
          "height": 219
        },
        "id": "7Ds26N19dGa6",
        "outputId": "40ff502d-4887-477e-817f-87c4bf254db2"
      },
      "execution_count": null,
      "outputs": [
        {
          "output_type": "execute_result",
          "data": {
            "text/plain": [
              "<pyspark.sql.session.SparkSession at 0x7f58e55ad6a0>"
            ],
            "text/html": [
              "\n",
              "            <div>\n",
              "                <p><b>SparkSession - in-memory</b></p>\n",
              "                \n",
              "        <div>\n",
              "            <p><b>SparkContext</b></p>\n",
              "\n",
              "            <p><a href=\"http://146854eb6fb7:4040\">Spark UI</a></p>\n",
              "\n",
              "            <dl>\n",
              "              <dt>Version</dt>\n",
              "                <dd><code>v3.0.0</code></dd>\n",
              "              <dt>Master</dt>\n",
              "                <dd><code>local[*]</code></dd>\n",
              "              <dt>AppName</dt>\n",
              "                <dd><code>pyspark-shell</code></dd>\n",
              "            </dl>\n",
              "        </div>\n",
              "        \n",
              "            </div>\n",
              "        "
            ]
          },
          "metadata": {},
          "execution_count": 2
        }
      ]
    },
    {
      "cell_type": "code",
      "source": [
        "from google.colab import files\n",
        "upload = files.upload()"
      ],
      "metadata": {
        "colab": {
          "base_uri": "https://localhost:8080/",
          "height": 73
        },
        "id": "YVpPwFCXdIP2",
        "outputId": "556ea5cb-00d5-492c-9df7-c08d28a42adb"
      },
      "execution_count": null,
      "outputs": [
        {
          "output_type": "display_data",
          "data": {
            "text/plain": [
              "<IPython.core.display.HTML object>"
            ],
            "text/html": [
              "\n",
              "     <input type=\"file\" id=\"files-391efc2e-52ac-469d-92d7-4815b3437f6d\" name=\"files[]\" multiple disabled\n",
              "        style=\"border:none\" />\n",
              "     <output id=\"result-391efc2e-52ac-469d-92d7-4815b3437f6d\">\n",
              "      Upload widget is only available when the cell has been executed in the\n",
              "      current browser session. Please rerun this cell to enable.\n",
              "      </output>\n",
              "      <script>// Copyright 2017 Google LLC\n",
              "//\n",
              "// Licensed under the Apache License, Version 2.0 (the \"License\");\n",
              "// you may not use this file except in compliance with the License.\n",
              "// You may obtain a copy of the License at\n",
              "//\n",
              "//      http://www.apache.org/licenses/LICENSE-2.0\n",
              "//\n",
              "// Unless required by applicable law or agreed to in writing, software\n",
              "// distributed under the License is distributed on an \"AS IS\" BASIS,\n",
              "// WITHOUT WARRANTIES OR CONDITIONS OF ANY KIND, either express or implied.\n",
              "// See the License for the specific language governing permissions and\n",
              "// limitations under the License.\n",
              "\n",
              "/**\n",
              " * @fileoverview Helpers for google.colab Python module.\n",
              " */\n",
              "(function(scope) {\n",
              "function span(text, styleAttributes = {}) {\n",
              "  const element = document.createElement('span');\n",
              "  element.textContent = text;\n",
              "  for (const key of Object.keys(styleAttributes)) {\n",
              "    element.style[key] = styleAttributes[key];\n",
              "  }\n",
              "  return element;\n",
              "}\n",
              "\n",
              "// Max number of bytes which will be uploaded at a time.\n",
              "const MAX_PAYLOAD_SIZE = 100 * 1024;\n",
              "\n",
              "function _uploadFiles(inputId, outputId) {\n",
              "  const steps = uploadFilesStep(inputId, outputId);\n",
              "  const outputElement = document.getElementById(outputId);\n",
              "  // Cache steps on the outputElement to make it available for the next call\n",
              "  // to uploadFilesContinue from Python.\n",
              "  outputElement.steps = steps;\n",
              "\n",
              "  return _uploadFilesContinue(outputId);\n",
              "}\n",
              "\n",
              "// This is roughly an async generator (not supported in the browser yet),\n",
              "// where there are multiple asynchronous steps and the Python side is going\n",
              "// to poll for completion of each step.\n",
              "// This uses a Promise to block the python side on completion of each step,\n",
              "// then passes the result of the previous step as the input to the next step.\n",
              "function _uploadFilesContinue(outputId) {\n",
              "  const outputElement = document.getElementById(outputId);\n",
              "  const steps = outputElement.steps;\n",
              "\n",
              "  const next = steps.next(outputElement.lastPromiseValue);\n",
              "  return Promise.resolve(next.value.promise).then((value) => {\n",
              "    // Cache the last promise value to make it available to the next\n",
              "    // step of the generator.\n",
              "    outputElement.lastPromiseValue = value;\n",
              "    return next.value.response;\n",
              "  });\n",
              "}\n",
              "\n",
              "/**\n",
              " * Generator function which is called between each async step of the upload\n",
              " * process.\n",
              " * @param {string} inputId Element ID of the input file picker element.\n",
              " * @param {string} outputId Element ID of the output display.\n",
              " * @return {!Iterable<!Object>} Iterable of next steps.\n",
              " */\n",
              "function* uploadFilesStep(inputId, outputId) {\n",
              "  const inputElement = document.getElementById(inputId);\n",
              "  inputElement.disabled = false;\n",
              "\n",
              "  const outputElement = document.getElementById(outputId);\n",
              "  outputElement.innerHTML = '';\n",
              "\n",
              "  const pickedPromise = new Promise((resolve) => {\n",
              "    inputElement.addEventListener('change', (e) => {\n",
              "      resolve(e.target.files);\n",
              "    });\n",
              "  });\n",
              "\n",
              "  const cancel = document.createElement('button');\n",
              "  inputElement.parentElement.appendChild(cancel);\n",
              "  cancel.textContent = 'Cancel upload';\n",
              "  const cancelPromise = new Promise((resolve) => {\n",
              "    cancel.onclick = () => {\n",
              "      resolve(null);\n",
              "    };\n",
              "  });\n",
              "\n",
              "  // Wait for the user to pick the files.\n",
              "  const files = yield {\n",
              "    promise: Promise.race([pickedPromise, cancelPromise]),\n",
              "    response: {\n",
              "      action: 'starting',\n",
              "    }\n",
              "  };\n",
              "\n",
              "  cancel.remove();\n",
              "\n",
              "  // Disable the input element since further picks are not allowed.\n",
              "  inputElement.disabled = true;\n",
              "\n",
              "  if (!files) {\n",
              "    return {\n",
              "      response: {\n",
              "        action: 'complete',\n",
              "      }\n",
              "    };\n",
              "  }\n",
              "\n",
              "  for (const file of files) {\n",
              "    const li = document.createElement('li');\n",
              "    li.append(span(file.name, {fontWeight: 'bold'}));\n",
              "    li.append(span(\n",
              "        `(${file.type || 'n/a'}) - ${file.size} bytes, ` +\n",
              "        `last modified: ${\n",
              "            file.lastModifiedDate ? file.lastModifiedDate.toLocaleDateString() :\n",
              "                                    'n/a'} - `));\n",
              "    const percent = span('0% done');\n",
              "    li.appendChild(percent);\n",
              "\n",
              "    outputElement.appendChild(li);\n",
              "\n",
              "    const fileDataPromise = new Promise((resolve) => {\n",
              "      const reader = new FileReader();\n",
              "      reader.onload = (e) => {\n",
              "        resolve(e.target.result);\n",
              "      };\n",
              "      reader.readAsArrayBuffer(file);\n",
              "    });\n",
              "    // Wait for the data to be ready.\n",
              "    let fileData = yield {\n",
              "      promise: fileDataPromise,\n",
              "      response: {\n",
              "        action: 'continue',\n",
              "      }\n",
              "    };\n",
              "\n",
              "    // Use a chunked sending to avoid message size limits. See b/62115660.\n",
              "    let position = 0;\n",
              "    do {\n",
              "      const length = Math.min(fileData.byteLength - position, MAX_PAYLOAD_SIZE);\n",
              "      const chunk = new Uint8Array(fileData, position, length);\n",
              "      position += length;\n",
              "\n",
              "      const base64 = btoa(String.fromCharCode.apply(null, chunk));\n",
              "      yield {\n",
              "        response: {\n",
              "          action: 'append',\n",
              "          file: file.name,\n",
              "          data: base64,\n",
              "        },\n",
              "      };\n",
              "\n",
              "      let percentDone = fileData.byteLength === 0 ?\n",
              "          100 :\n",
              "          Math.round((position / fileData.byteLength) * 100);\n",
              "      percent.textContent = `${percentDone}% done`;\n",
              "\n",
              "    } while (position < fileData.byteLength);\n",
              "  }\n",
              "\n",
              "  // All done.\n",
              "  yield {\n",
              "    response: {\n",
              "      action: 'complete',\n",
              "    }\n",
              "  };\n",
              "}\n",
              "\n",
              "scope.google = scope.google || {};\n",
              "scope.google.colab = scope.google.colab || {};\n",
              "scope.google.colab._files = {\n",
              "  _uploadFiles,\n",
              "  _uploadFilesContinue,\n",
              "};\n",
              "})(self);\n",
              "</script> "
            ]
          },
          "metadata": {}
        },
        {
          "output_type": "stream",
          "name": "stdout",
          "text": [
            "Saving h.csv to h.csv\n"
          ]
        }
      ]
    },
    {
      "cell_type": "code",
      "source": [
        "## dataset reading\n",
        "df = spark.read.csv('h.csv', inferSchema=True, header = True)"
      ],
      "metadata": {
        "id": "OP78ZWT3dVK1"
      },
      "execution_count": null,
      "outputs": []
    },
    {
      "cell_type": "code",
      "source": [
        "df.show(5)"
      ],
      "metadata": {
        "colab": {
          "base_uri": "https://localhost:8080/"
        },
        "id": "YIe--ifidZQM",
        "outputId": "1a2beddc-7ff1-4fd4-dd7b-21a91ebb2fae"
      },
      "execution_count": null,
      "outputs": [
        {
          "output_type": "stream",
          "name": "stdout",
          "text": [
            "+-----+------+-------+---+-------+-----------+------------+------------------+--------------+--------+-----------------+----------+------------+-------------+----+-----------+-----------------------+------------------------+----------------+-----------+-----------+------------+-----------+-----------+-----------+-----------+------+-----------+-----------+---------+-----------+---------+----------+-----------+-----------+---------+---------------+-----------+-------------+-----------+---------------+------------+-------------+-----------+-----------+-------------+-----+-----------+-----------+----+---+\n",
            "|group|    ID|outcome|age|gendera|        BMI|hypertensive|atrialfibrillation|CHD with no MI|diabetes|deficiencyanemias|depression|Hyperlipemia|Renal failure|COPD| heart rate|Systolic blood pressure|Diastolic blood pressure|Respiratory rate|temperature|      SP O2|Urine output| hematocrit|        RBC|        MCH|       MCHC|   MCV|        RDW|  Leucocyte|Platelets|Neutrophils|Basophils|Lymphocyte|         PT|        INR|NT-proBNP|Creatine kinase| Creatinine|Urea nitrogen|    glucose|Blood potassium|Blood sodium|Blood calcium|   Chloride|  Anion gap|Magnesium ion|   PH|Bicarbonate|Lactic acid|PCO2| EF|\n",
            "+-----+------+-------+---+-------+-----------+------------+------------------+--------------+--------+-----------------+----------+------------+-------------+----+-----------+-----------------------+------------------------+----------------+-----------+-----------+------------+-----------+-----------+-----------+-----------+------+-----------+-----------+---------+-----------+---------+----------+-----------+-----------+---------+---------------+-----------+-------------+-----------+---------------+------------+-------------+-----------+-----------+-------------+-----+-----------+-----------+----+---+\n",
            "|    1|125047|      0| 72|      1|37.58817943|           0|                 0|             0|       1|                1|         0|           1|            1|   0|68.83783784|            155.8666667|             68.33333333|     16.62162162|36.71428571|98.39473684|        2155|26.27272727|       2.96|      28.25|      31.52|  89.9|      16.22|       7.65|    305.1|      74.65|      0.4|      13.3|       10.6|          1|   1956.0|            148|1.958333333|         50.0|114.6363636|    4.816666667|      138.75|  7.463636364|109.1666667|13.16666667|  2.618181818| 7.23|21.16666667|        0.5|  40| 55|\n",
            "|    1|139812|      0| 75|      2|         NA|           0|                 0|             0|       0|                1|         0|           0|            0|   1|          0|                    140|                      65|     20.85185185|36.68253968|96.92307692|        1425|      30.78|      3.138|      31.06|      31.66|  98.2|      14.26|      12.74|    246.4|         NA|       NA|        NA|         NA|         NA|   2384.0|           60.6|1.122222222|  20.33333333|      147.5|           4.45| 138.8888889|       8.1625|98.44444444|11.44444444|       1.8875|7.225|33.44444444|        0.5|  78| 55|\n",
            "|    1|109787|      0| 83|      2|26.57263379|           0|                 0|             0|       0|                1|         0|           0|            1|   0|72.31818182|            135.3333333|                  61.375|           23.64| 36.4537037|95.29166667|        2425|       27.7|       2.62|      34.32|       31.3| 109.8|      23.82|       5.48|    204.2|       68.1|     0.55|      24.5|     11.275|       0.95|   4081.0|             16|1.871428571|  33.85714286|        149|          5.825| 140.7142857|  8.266666667|105.8571429|       10.0|  2.157142857|7.268|30.57142857|        0.5|71.5| 35|\n",
            "|    1|130587|      0| 43|      2|83.26462934|           0|                 0|             0|       0|                0|         0|           0|            0|   0|       94.5|                  126.4|                    73.2|     21.85714286|36.28703704|93.84615385|        8760|    36.6375|     4.2775|    26.0625|    30.4125|85.625|    17.0375|      8.225|  216.375|       81.8|     0.15|      14.5|27.06666667|2.666666667|    668.0|             85|0.585714286|  15.28571429|     128.25|    4.386666667|       138.5|  9.476923077|92.07142857|12.35714286|  1.942857143| 7.37|38.57142857|        0.6|  75| 55|\n",
            "|    1|138290|      0| 75|      2|31.82484194|           1|                 0|             0|       0|                1|         0|           0|            1|   1|      67.92|                 156.56|                   58.12|           21.36|36.76190476|      99.28|        4455|29.93333333|3.286666667|30.66666667|33.66666667|  91.0|16.26666667|8.833333333|    251.0|         NA|       NA|        NA|         NA|         NA|  30802.0|    111.6666667|       1.95|         43.0|     145.75|    4.783333333| 136.6666667|  8.733333333|      104.5|15.16666667|         1.65| 7.25|       22.0|        0.6|  50| 55|\n",
            "+-----+------+-------+---+-------+-----------+------------+------------------+--------------+--------+-----------------+----------+------------+-------------+----+-----------+-----------------------+------------------------+----------------+-----------+-----------+------------+-----------+-----------+-----------+-----------+------+-----------+-----------+---------+-----------+---------+----------+-----------+-----------+---------+---------------+-----------+-------------+-----------+---------------+------------+-------------+-----------+-----------+-------------+-----+-----------+-----------+----+---+\n",
            "only showing top 5 rows\n",
            "\n"
          ]
        }
      ]
    },
    {
      "cell_type": "code",
      "source": [
        "row=df.count()\n",
        "row\n"
      ],
      "metadata": {
        "colab": {
          "base_uri": "https://localhost:8080/"
        },
        "id": "dw9tF5rmdalg",
        "outputId": "1ef04ae2-7b90-4652-cf49-d4d4545e5782"
      },
      "execution_count": null,
      "outputs": [
        {
          "output_type": "execute_result",
          "data": {
            "text/plain": [
              "1177"
            ]
          },
          "metadata": {},
          "execution_count": 6
        }
      ]
    },
    {
      "cell_type": "code",
      "source": [
        "df1 = df.select(df['Renal failure'],df['Systolic blood pressure'],df['Blood potassium'],df['heart rate'],df['hematocrit'],df['Urine output'],df['Urea nitrogen'],df['Creatinine'],df['hypertensive'],df['diabetes'],df['deficiencyanemias'],df['Lactic acid'],df['EF'])"
      ],
      "metadata": {
        "id": "gFjxmdhgds7l"
      },
      "execution_count": 78,
      "outputs": []
    },
    {
      "cell_type": "code",
      "source": [
        "df1.show()"
      ],
      "metadata": {
        "colab": {
          "base_uri": "https://localhost:8080/"
        },
        "id": "yxIBQ4Sndzm9",
        "outputId": "91e95445-1ad2-47be-83f8-3bfba1aa785d"
      },
      "execution_count": 79,
      "outputs": [
        {
          "output_type": "stream",
          "name": "stdout",
          "text": [
            "+-------------+-----------------------+---------------+-----------+-----------+------------+-------------+-----------+------------+--------+-----------------+-----------+---+\n",
            "|Renal failure|Systolic blood pressure|Blood potassium| heart rate| hematocrit|Urine output|Urea nitrogen| Creatinine|hypertensive|diabetes|deficiencyanemias|Lactic acid| EF|\n",
            "+-------------+-----------------------+---------------+-----------+-----------+------------+-------------+-----------+------------+--------+-----------------+-----------+---+\n",
            "|            1|            155.8666667|    4.816666667|68.83783784|26.27272727|        2155|         50.0|1.958333333|           0|       1|                1|        0.5| 55|\n",
            "|            0|                    140|           4.45|          0|      30.78|        1425|  20.33333333|1.122222222|           0|       0|                1|        0.5| 55|\n",
            "|            1|            135.3333333|          5.825|72.31818182|       27.7|        2425|  33.85714286|1.871428571|           0|       0|                1|        0.5| 35|\n",
            "|            0|                  126.4|    4.386666667|       94.5|    36.6375|        8760|  15.28571429|0.585714286|           0|       0|                0|        0.6| 55|\n",
            "|            1|                 156.56|    4.783333333|      67.92|29.93333333|        4455|         43.0|       1.95|           1|       0|                1|        0.6| 55|\n",
            "|            1|                  118.1|          4.075|74.18181818|27.33333333|        1840|       26.625|     1.6125|           1|       0|                1|        0.6| 35|\n",
            "|            1|            106.5652174|    4.606666667|69.63636364|    28.9375|        2450|  109.1333333|       2.96|           1|       0|                0|      0.625| 55|\n",
            "|            0|            141.1304348|         4.2375|84.66666667|       28.8|        3039|  16.71428571|      0.575|           1|       1|                1|       0.65| 75|\n",
            "|            1|            98.43478261|    4.718181818|91.91666667|31.24117647|        1625|  79.73684211|2.131578947|           1|       1|                0|0.666666667| 50|\n",
            "|            0|                    122|           3.87|75.08333333|       30.3|        6107|         35.5|       1.61|           1|       1|                0|        0.7| 55|\n",
            "|            0|            149.0357143|    4.409090909|95.62962963|27.48181818|        1305|         22.9|       1.82|           1|       1|                0|        0.7| 75|\n",
            "|            0|            103.2608696|    4.033333333|      65.16|     33.275|        2360|  11.33333333|0.833333333|           1|       1|                1|        0.7| 55|\n",
            "|            0|            126.9032258|           3.88|78.83333333|32.54444444|        1130|         14.2|0.545454545|           1|       0|                0|        0.7| 75|\n",
            "|            1|            112.1428571|           4.34|65.86956522|    31.6125|        2220|         29.6|       1.98|           1|       1|                0|        0.7| 40|\n",
            "|            0|                 107.36|    3.971428571|98.54411765|      44.16|        2300|  19.28571429|1.342857143|           1|       0|                0|        0.7| 35|\n",
            "|            1|            159.6956522|    4.685714286|      73.48|      28.56|        3700|  59.83333333|1.666666667|           1|       1|                0|        0.7| 55|\n",
            "|            1|            157.2894737|    4.790909091|83.69230769|23.65454545|        1495|         54.7|       2.05|           1|       0|                1|        0.7| 30|\n",
            "|            1|                 113.28|            4.6|       64.6|25.05384615|         332|  36.58333333|2.791666667|           1|       1|                1|       0.74| 50|\n",
            "|            0|                 162.24|            5.3|         82|26.21666667|        5710|         11.0|0.736363636|           1|       0|                1|       0.75| 55|\n",
            "|            1|            112.4166667|            4.0|70.08333333|      27.66|        2415|          9.4|       0.88|           0|       0|                1|       0.75| 75|\n",
            "+-------------+-----------------------+---------------+-----------+-----------+------------+-------------+-----------+------------+--------+-----------------+-----------+---+\n",
            "only showing top 20 rows\n",
            "\n"
          ]
        }
      ]
    },
    {
      "cell_type": "code",
      "source": [
        "## string to integer\n",
        "from pyspark.sql.types import IntegerType\n",
        "df1 = df1.withColumn(\"heart rate\", df1[\"heart rate\"].cast(IntegerType()))\n",
        "df1 = df1.withColumn(\"Systolic blood pressure\", df1[\"Systolic blood pressure\"].cast(IntegerType()))\n",
        "df1 = df1.withColumn(\"Urine output\", df1[\"Urine output\"].cast(IntegerType()))\n",
        "df1 = df1.withColumn(\"Lactic acid\", df1[\"Lactic acid\"].cast(IntegerType()))"
      ],
      "metadata": {
        "id": "LCLu2fX3d0CH"
      },
      "execution_count": 80,
      "outputs": []
    },
    {
      "cell_type": "code",
      "source": [
        "## replacing NA values with mean\n",
        "from pyspark.ml.feature import Imputer\n",
        "\n",
        "imputer = Imputer(\n",
        "    inputCols = ['EF','heart rate'],\n",
        "    outputCols = [\"{}_imputed\".format(a) for a in ['EF','heart rate'] ]\n",
        ").setStrategy(\"mean\")"
      ],
      "metadata": {
        "id": "kedIgFE7d2jM"
      },
      "execution_count": 81,
      "outputs": []
    },
    {
      "cell_type": "code",
      "source": [
        "## ## replacing NA values with median\n",
        "from pyspark.ml.feature import Imputer\n",
        "\n",
        "imputer = Imputer(\n",
        "    inputCols = ['Systolic blood pressure','Blood potassium','hematocrit','Urine output','Urea nitrogen','Creatinine','Lactic acid'],\n",
        "    outputCols = [\"{}_imputed\".format(a) for a in ['Systolic blood pressure','Blood potassium','hematocrit','Urine output','Urea nitrogen','Creatinine','Lactic acid'] ]\n",
        ").setStrategy(\"median\")"
      ],
      "metadata": {
        "id": "Z09LOU51eDSF"
      },
      "execution_count": 82,
      "outputs": []
    },
    {
      "cell_type": "code",
      "source": [
        "imputer.fit(df1).transform(df1).show()"
      ],
      "metadata": {
        "colab": {
          "base_uri": "https://localhost:8080/"
        },
        "id": "Sl-f9VBeeHZV",
        "outputId": "bb1b3923-2287-4467-b881-708c77009d4a"
      },
      "execution_count": 83,
      "outputs": [
        {
          "output_type": "stream",
          "name": "stdout",
          "text": [
            "+-------------+-----------------------+---------------+----------+-----------+------------+-------------+-----------+------------+--------+-----------------+-----------+---+-----------------------+-------------------+---------------------+------------------+-------------------------------+------------------+--------------------+\n",
            "|Renal failure|Systolic blood pressure|Blood potassium|heart rate| hematocrit|Urine output|Urea nitrogen| Creatinine|hypertensive|diabetes|deficiencyanemias|Lactic acid| EF|Blood potassium_imputed|Lactic acid_imputed|Urea nitrogen_imputed|Creatinine_imputed|Systolic blood pressure_imputed|hematocrit_imputed|Urine output_imputed|\n",
            "+-------------+-----------------------+---------------+----------+-----------+------------+-------------+-----------+------------+--------+-----------------+-----------+---+-----------------------+-------------------+---------------------+------------------+-------------------------------+------------------+--------------------+\n",
            "|            1|                    155|    4.816666667|        68|26.27272727|        2155|         50.0|1.958333333|           0|       1|                1|          0| 55|            4.816666667|                  0|                 50.0|       1.958333333|                            155|       26.27272727|                2155|\n",
            "|            0|                    140|           4.45|         0|      30.78|        1425|  20.33333333|1.122222222|           0|       0|                1|          0| 55|                   4.45|                  0|          20.33333333|       1.122222222|                            140|             30.78|                1425|\n",
            "|            1|                    135|          5.825|        72|       27.7|        2425|  33.85714286|1.871428571|           0|       0|                1|          0| 35|                  5.825|                  0|          33.85714286|       1.871428571|                            135|              27.7|                2425|\n",
            "|            0|                    126|    4.386666667|        94|    36.6375|        8760|  15.28571429|0.585714286|           0|       0|                0|          0| 55|            4.386666667|                  0|          15.28571429|       0.585714286|                            126|           36.6375|                8760|\n",
            "|            1|                    156|    4.783333333|        67|29.93333333|        4455|         43.0|       1.95|           1|       0|                1|          0| 55|            4.783333333|                  0|                 43.0|              1.95|                            156|       29.93333333|                4455|\n",
            "|            1|                    118|          4.075|        74|27.33333333|        1840|       26.625|     1.6125|           1|       0|                1|          0| 35|                  4.075|                  0|               26.625|            1.6125|                            118|       27.33333333|                1840|\n",
            "|            1|                    106|    4.606666667|        69|    28.9375|        2450|  109.1333333|       2.96|           1|       0|                0|          0| 55|            4.606666667|                  0|          109.1333333|              2.96|                            106|           28.9375|                2450|\n",
            "|            0|                    141|         4.2375|        84|       28.8|        3039|  16.71428571|      0.575|           1|       1|                1|          0| 75|                 4.2375|                  0|          16.71428571|             0.575|                            141|              28.8|                3039|\n",
            "|            1|                     98|    4.718181818|        91|31.24117647|        1625|  79.73684211|2.131578947|           1|       1|                0|          0| 50|            4.718181818|                  0|          79.73684211|       2.131578947|                             98|       31.24117647|                1625|\n",
            "|            0|                    122|           3.87|        75|       30.3|        6107|         35.5|       1.61|           1|       1|                0|          0| 55|                   3.87|                  0|                 35.5|              1.61|                            122|              30.3|                6107|\n",
            "|            0|                    149|    4.409090909|        95|27.48181818|        1305|         22.9|       1.82|           1|       1|                0|          0| 75|            4.409090909|                  0|                 22.9|              1.82|                            149|       27.48181818|                1305|\n",
            "|            0|                    103|    4.033333333|        65|     33.275|        2360|  11.33333333|0.833333333|           1|       1|                1|          0| 55|            4.033333333|                  0|          11.33333333|       0.833333333|                            103|            33.275|                2360|\n",
            "|            0|                    126|           3.88|        78|32.54444444|        1130|         14.2|0.545454545|           1|       0|                0|          0| 75|                   3.88|                  0|                 14.2|       0.545454545|                            126|       32.54444444|                1130|\n",
            "|            1|                    112|           4.34|        65|    31.6125|        2220|         29.6|       1.98|           1|       1|                0|          0| 40|                   4.34|                  0|                 29.6|              1.98|                            112|           31.6125|                2220|\n",
            "|            0|                    107|    3.971428571|        98|      44.16|        2300|  19.28571429|1.342857143|           1|       0|                0|          0| 35|            3.971428571|                  0|          19.28571429|       1.342857143|                            107|             44.16|                2300|\n",
            "|            1|                    159|    4.685714286|        73|      28.56|        3700|  59.83333333|1.666666667|           1|       1|                0|          0| 55|            4.685714286|                  0|          59.83333333|       1.666666667|                            159|             28.56|                3700|\n",
            "|            1|                    157|    4.790909091|        83|23.65454545|        1495|         54.7|       2.05|           1|       0|                1|          0| 30|            4.790909091|                  0|                 54.7|              2.05|                            157|       23.65454545|                1495|\n",
            "|            1|                    113|            4.6|        64|25.05384615|         332|  36.58333333|2.791666667|           1|       1|                1|          0| 50|                    4.6|                  0|          36.58333333|       2.791666667|                            113|       25.05384615|                 332|\n",
            "|            0|                    162|            5.3|        82|26.21666667|        5710|         11.0|0.736363636|           1|       0|                1|          0| 55|                    5.3|                  0|                 11.0|       0.736363636|                            162|       26.21666667|                5710|\n",
            "|            1|                    112|            4.0|        70|      27.66|        2415|          9.4|       0.88|           0|       0|                1|          0| 75|                    4.0|                  0|                  9.4|              0.88|                            112|             27.66|                2415|\n",
            "+-------------+-----------------------+---------------+----------+-----------+------------+-------------+-----------+------------+--------+-----------------+-----------+---+-----------------------+-------------------+---------------------+------------------+-------------------------------+------------------+--------------------+\n",
            "only showing top 20 rows\n",
            "\n"
          ]
        }
      ]
    },
    {
      "cell_type": "code",
      "source": [
        "df.describe().show()"
      ],
      "metadata": {
        "colab": {
          "base_uri": "https://localhost:8080/"
        },
        "id": "lefd306leTmh",
        "outputId": "7cddaf28-8246-4e03-9efc-2bf785d9706d"
      },
      "execution_count": 84,
      "outputs": [
        {
          "output_type": "stream",
          "name": "stdout",
          "text": [
            "+-------+-------------------+------------------+-------------------+------------------+-------------------+-----------------+-------------------+-------------------+-------------------+------------------+-------------------+-------------------+-------------------+------------------+-------------------+------------------+-----------------------+------------------------+------------------+------------------+-----------------+------------------+-----------------+------------------+------------------+------------------+-----------------+-----------------+-----------------+------------------+------------------+-------------------+------------------+------------------+------------------+------------------+------------------+------------------+------------------+------------------+-------------------+-----------------+------------------+------------------+------------------+------------------+-------------------+------------------+------------------+-----------------+------------------+\n",
            "|summary|              group|                ID|            outcome|               age|            gendera|              BMI|       hypertensive| atrialfibrillation|     CHD with no MI|          diabetes|  deficiencyanemias|         depression|       Hyperlipemia|     Renal failure|               COPD|        heart rate|Systolic blood pressure|Diastolic blood pressure|  Respiratory rate|       temperature|            SP O2|      Urine output|       hematocrit|               RBC|               MCH|              MCHC|              MCV|              RDW|        Leucocyte|         Platelets|       Neutrophils|          Basophils|        Lymphocyte|                PT|               INR|         NT-proBNP|   Creatine kinase|        Creatinine|     Urea nitrogen|           glucose|    Blood potassium|     Blood sodium|     Blood calcium|          Chloride|         Anion gap|     Magnesium ion|                 PH|       Bicarbonate|       Lactic acid|             PCO2|                EF|\n",
            "+-------+-------------------+------------------+-------------------+------------------+-------------------+-----------------+-------------------+-------------------+-------------------+------------------+-------------------+-------------------+-------------------+------------------+-------------------+------------------+-----------------------+------------------------+------------------+------------------+-----------------+------------------+-----------------+------------------+------------------+------------------+-----------------+-----------------+-----------------+------------------+------------------+-------------------+------------------+------------------+------------------+------------------+------------------+------------------+------------------+------------------+-------------------+-----------------+------------------+------------------+------------------+------------------+-------------------+------------------+------------------+-----------------+------------------+\n",
            "|  count|               1177|              1177|               1177|              1177|               1177|             1177|               1177|               1177|               1177|              1177|               1177|               1177|               1177|              1177|               1177|              1177|                   1177|                    1177|              1177|              1177|             1177|              1177|             1177|              1177|              1177|              1177|             1177|             1177|             1177|              1177|              1177|               1177|              1177|              1177|              1177|              1177|              1177|              1177|              1177|              1177|               1177|             1177|              1177|              1177|              1177|              1177|               1177|              1177|              1177|             1177|              1177|\n",
            "|   mean| 1.2990654205607477|150778.12064570942|0.13520408163265307| 74.05522514868309| 1.5250637213254035|30.18827765159043| 0.7179269328802039| 0.4511469838572642|0.08581138487680544| 0.421410365335599| 0.3389974511469839|0.11894647408666101| 0.3797790994052676|0.3653355989804588|0.07561597281223449| 84.48876046042942|     117.99503522048246|       59.53449655225665|20.801511481503425| 36.67728595220208|96.27290043504303|1899.2765118317266|31.91401391885299|3.5750098488988935|29.539938939277846| 32.86432707224304|89.90381246580279|15.95212891901446|10.71294822657687|241.50432334404508| 80.11354430419172| 0.4055694314716784|12.233024294061039|17.481057149161625| 1.625464983596369|11014.130911925235| 246.7784560746935|1.6428456376414626|  36.2984225269839|148.79653094522868|  4.176646395857267|138.8900164798642| 8.500894160843536|102.28383516657608|13.925093917981307|2.1201692361614275|  7.378532073776262|26.911765590186924|1.8534255697974666|45.53538235441683| 48.71537807986406|\n",
            "| stddev|0.45804317218714163|29034.669512932793| 0.3420869007678356|13.434060756372105|0.49958368741589076|9.325997440128406|0.45020001386026776|0.49781918244618534| 0.2802043868459043|0.4939949416496709|0.47357018691242936| 0.3238631262022471|0.48553808303056706|0.4817288279085005| 0.2644950561175741|16.201827646373193|     17.367618384969184|       10.68468090874251| 4.002987118015287|0.6075583791550683|2.298001866328625| 1272.363631065564|5.202102273361771| 0.626835172523815|2.6190535077301207|1.4023019864322983|6.532629100224999|2.131643210817967|5.229402278282458|113.12062260236011|11.133242502995826|0.46500657734688083|  8.63280727826392| 7.386987854026265|0.8340382339002697|13148.664625032565|1484.5228096801904|1.2796505961357318|21.851544977881385| 51.49425588636487|0.41483603133775254|4.151346613012873|0.5722625957038024|  5.33973347618521|2.6527324108449943| 0.251532491611654|0.06732040395536842|  5.16751188811056|0.9838191428073783|12.71127101415469|12.868435902053802|\n",
            "|    min|                  1|            100213|                  0|                19|                  1|       104.970366|                  0|                  0|                  0|                 0|                  0|                  0|                  0|                 0|                  0|                 0|                    100|             101.5714286|       11.13793103|             33.25|              100|                 0|      20.31111111|              2.03|            18.125|            27.825|             62.6|      12.08888889|              0.1|       9.571428571|                10|                0.1|       0.966666667|              10.1|       0.871428571|              50.0|                10|       0.266666667|       5.357142857|               100|                3.0|      114.6666667|       10.00769231|       80.26666667|       6.636363636|               1.4|               7.09|       12.85714286|               0.5|            18.75|                15|\n",
            "|    max|                  2|            199952|                 NA|                99|                  2|               NA|                  1|                  1|                  1|                 1|                  1|                  1|                  1|                 1|                  1|                NA|                     NA|                      NA|                NA|                NA|               NA|                NA|           55.425|             6.575|       40.31428571|       37.01111111|      116.7142857|            29.05|            64.75|            1028.2|                NA|                 NA|                NA|                NA|                NA|          118928.0|                NA|       15.52727273|            161.75|                NA|        6.566666667|      154.7368421|                NA|       122.5263158|              25.5|       4.072727273|                 NA|       47.66666667|                NA|               NA|                75|\n",
            "+-------+-------------------+------------------+-------------------+------------------+-------------------+-----------------+-------------------+-------------------+-------------------+------------------+-------------------+-------------------+-------------------+------------------+-------------------+------------------+-----------------------+------------------------+------------------+------------------+-----------------+------------------+-----------------+------------------+------------------+------------------+-----------------+-----------------+-----------------+------------------+------------------+-------------------+------------------+------------------+------------------+------------------+------------------+------------------+------------------+------------------+-------------------+-----------------+------------------+------------------+------------------+------------------+-------------------+------------------+------------------+-----------------+------------------+\n",
            "\n"
          ]
        }
      ]
    },
    {
      "cell_type": "code",
      "source": [
        "df1.describe().show()"
      ],
      "metadata": {
        "colab": {
          "base_uri": "https://localhost:8080/"
        },
        "id": "ExpyfStYeN7d",
        "outputId": "ec9a2493-6bab-4dbd-d2a2-7190614c5d50"
      },
      "execution_count": 85,
      "outputs": [
        {
          "output_type": "stream",
          "name": "stdout",
          "text": [
            "+-------+------------------+-----------------------+-------------------+-----------------+-----------------+------------------+------------------+------------------+-------------------+------------------+-------------------+------------------+------------------+\n",
            "|summary|     Renal failure|Systolic blood pressure|    Blood potassium|       heart rate|       hematocrit|      Urine output|     Urea nitrogen|        Creatinine|       hypertensive|          diabetes|  deficiencyanemias|       Lactic acid|                EF|\n",
            "+-------+------------------+-----------------------+-------------------+-----------------+-----------------+------------------+------------------+------------------+-------------------+------------------+-------------------+------------------+------------------+\n",
            "|  count|              1177|                   1161|               1177|             1164|             1177|              1141|              1177|              1177|               1177|              1177|               1177|               948|              1177|\n",
            "|   mean|0.3653355989804588|     117.51851851851852|  4.176646395857267|84.00687285223368|31.91401391885299| 1899.276073619632|  36.2984225269839|1.6428456376414626| 0.7179269328802039| 0.421410365335599| 0.3389974511469839|1.3934599156118144| 48.71537807986406|\n",
            "| stddev|0.4817288279085005|      17.37928443459319|0.41483603133775254|16.20181048387633|5.202102273361771|1272.3641402112235|21.851544977881385|1.2796505961357318|0.45020001386026776|0.4939949416496709|0.47357018691242936| 1.002762526081632|12.868435902053802|\n",
            "|    min|                 0|                     75|                3.0|                0|      20.31111111|                 0|       5.357142857|       0.266666667|                  0|                 0|                  0|                 0|                15|\n",
            "|    max|                 1|                    203|        6.566666667|              135|           55.425|              8820|            161.75|       15.52727273|                  1|                 1|                  1|                 8|                75|\n",
            "+-------+------------------+-----------------------+-------------------+-----------------+-----------------+------------------+------------------+------------------+-------------------+------------------+-------------------+------------------+------------------+\n",
            "\n"
          ]
        }
      ]
    },
    {
      "cell_type": "code",
      "source": [
        "df1.printSchema()"
      ],
      "metadata": {
        "colab": {
          "base_uri": "https://localhost:8080/"
        },
        "id": "mz5xJ8DGig8v",
        "outputId": "f9908a9f-76ca-49d2-a5e4-f9861d1446a0"
      },
      "execution_count": 86,
      "outputs": [
        {
          "output_type": "stream",
          "name": "stdout",
          "text": [
            "root\n",
            " |-- Renal failure: integer (nullable = true)\n",
            " |-- Systolic blood pressure: integer (nullable = true)\n",
            " |-- Blood potassium: double (nullable = true)\n",
            " |-- heart rate: integer (nullable = true)\n",
            " |-- hematocrit: double (nullable = true)\n",
            " |-- Urine output: integer (nullable = true)\n",
            " |-- Urea nitrogen: double (nullable = true)\n",
            " |-- Creatinine: double (nullable = true)\n",
            " |-- hypertensive: integer (nullable = true)\n",
            " |-- diabetes: integer (nullable = true)\n",
            " |-- deficiencyanemias: integer (nullable = true)\n",
            " |-- Lactic acid: integer (nullable = true)\n",
            " |-- EF: integer (nullable = true)\n",
            "\n"
          ]
        }
      ]
    },
    {
      "cell_type": "code",
      "source": [
        "#library\n",
        "from pyspark.ml.feature import VectorAssembler\n",
        "from pyspark.ml.regression import LinearRegression\n",
        "from pyspark.ml.feature import VectorAssembler, StandardScaler\n",
        "import numpy as np\n",
        "import pandas as pd\n",
        "import matplotlib.pyplot as plt"
      ],
      "metadata": {
        "id": "8KCX16R8jZ6l"
      },
      "execution_count": 87,
      "outputs": []
    },
    {
      "cell_type": "code",
      "source": [
        "#combine columns\n",
        "only_features=['heart rate','Systolic blood pressure','deficiencyanemias','Blood potassium','hematocrit','EF','Urine output','Urea nitrogen','Creatinine','hypertensive','diabetes','Lactic acid']\n",
        "assembler = VectorAssembler(inputCols=only_features, outputCol='features')\n",
        "feat_df1 = assembler.transform(df1).select('features')\n",
        "feat_df1.show(6)"
      ],
      "metadata": {
        "colab": {
          "base_uri": "https://localhost:8080/"
        },
        "id": "MDMfYidReOlL",
        "outputId": "fe89cc8f-6682-48ee-b79c-75fe0140b604"
      },
      "execution_count": 89,
      "outputs": [
        {
          "output_type": "stream",
          "name": "stdout",
          "text": [
            "+--------------------+\n",
            "|            features|\n",
            "+--------------------+\n",
            "|[68.0,155.0,1.0,4...|\n",
            "|[0.0,140.0,1.0,4....|\n",
            "|[72.0,135.0,1.0,5...|\n",
            "|[94.0,126.0,0.0,4...|\n",
            "|[67.0,156.0,1.0,4...|\n",
            "|[74.0,118.0,1.0,4...|\n",
            "+--------------------+\n",
            "only showing top 6 rows\n",
            "\n"
          ]
        }
      ]
    },
    {
      "cell_type": "code",
      "source": [
        "#Linear Regression\n",
        "output = assembler.transform(df1)\n",
        "#input vs output\n",
        "finalized_data = output.select('features','Renal failure')\n",
        "finalized_data.show()"
      ],
      "metadata": {
        "colab": {
          "base_uri": "https://localhost:8080/"
        },
        "id": "bXQmf8kJkQlF",
        "outputId": "bec7f954-250f-493c-de0f-2de87108b5a4"
      },
      "execution_count": 90,
      "outputs": [
        {
          "output_type": "stream",
          "name": "stdout",
          "text": [
            "+--------------------+-------------+\n",
            "|            features|Renal failure|\n",
            "+--------------------+-------------+\n",
            "|[68.0,155.0,1.0,4...|            1|\n",
            "|[0.0,140.0,1.0,4....|            0|\n",
            "|[72.0,135.0,1.0,5...|            1|\n",
            "|[94.0,126.0,0.0,4...|            0|\n",
            "|[67.0,156.0,1.0,4...|            1|\n",
            "|[74.0,118.0,1.0,4...|            1|\n",
            "|[69.0,106.0,0.0,4...|            1|\n",
            "|[84.0,141.0,1.0,4...|            0|\n",
            "|[91.0,98.0,0.0,4....|            1|\n",
            "|[75.0,122.0,0.0,3...|            0|\n",
            "|[95.0,149.0,0.0,4...|            0|\n",
            "|[65.0,103.0,1.0,4...|            0|\n",
            "|[78.0,126.0,0.0,3...|            0|\n",
            "|[65.0,112.0,0.0,4...|            1|\n",
            "|[98.0,107.0,0.0,3...|            0|\n",
            "|[73.0,159.0,0.0,4...|            1|\n",
            "|[83.0,157.0,1.0,4...|            1|\n",
            "|[64.0,113.0,1.0,4...|            1|\n",
            "|[82.0,162.0,1.0,5...|            0|\n",
            "|[70.0,112.0,1.0,4...|            1|\n",
            "+--------------------+-------------+\n",
            "only showing top 20 rows\n",
            "\n"
          ]
        }
      ]
    },
    {
      "cell_type": "code",
      "source": [
        "#split train & test data\n",
        "train_data,test_data = finalized_data.randomSplit([0.8,0.2])"
      ],
      "metadata": {
        "id": "nuG1l35OlbW1"
      },
      "execution_count": 91,
      "outputs": []
    },
    {
      "cell_type": "code",
      "source": [
        "#train model\n",
        "regressor = LinearRegression(featuresCol='features',labelCol='Renal failure')\n",
        "#learn to fit the model from train set\n",
        "regressor = regressor.fit(train_data)"
      ],
      "metadata": {
        "colab": {
          "base_uri": "https://localhost:8080/",
          "height": 1000
        },
        "id": "GkcF5FmGl1Ce",
        "outputId": "bcdb9b73-5d84-4e1e-b347-e94e826b70af"
      },
      "execution_count": 93,
      "outputs": [
        {
          "output_type": "error",
          "ename": "Py4JJavaError",
          "evalue": "ignored",
          "traceback": [
            "\u001b[0;31m---------------------------------------------------------------------------\u001b[0m",
            "\u001b[0;31mPy4JJavaError\u001b[0m                             Traceback (most recent call last)",
            "\u001b[0;32m<ipython-input-93-c4fb21c319de>\u001b[0m in \u001b[0;36m<module>\u001b[0;34m\u001b[0m\n\u001b[1;32m      2\u001b[0m \u001b[0mregressor\u001b[0m \u001b[0;34m=\u001b[0m \u001b[0mLinearRegression\u001b[0m\u001b[0;34m(\u001b[0m\u001b[0mfeaturesCol\u001b[0m\u001b[0;34m=\u001b[0m\u001b[0;34m'features'\u001b[0m\u001b[0;34m,\u001b[0m\u001b[0mlabelCol\u001b[0m\u001b[0;34m=\u001b[0m\u001b[0;34m'Renal failure'\u001b[0m\u001b[0;34m)\u001b[0m\u001b[0;34m\u001b[0m\u001b[0;34m\u001b[0m\u001b[0m\n\u001b[1;32m      3\u001b[0m \u001b[0;31m#learn to fit the model from train set\u001b[0m\u001b[0;34m\u001b[0m\u001b[0;34m\u001b[0m\u001b[0;34m\u001b[0m\u001b[0m\n\u001b[0;32m----> 4\u001b[0;31m \u001b[0mregressor\u001b[0m \u001b[0;34m=\u001b[0m \u001b[0mregressor\u001b[0m\u001b[0;34m.\u001b[0m\u001b[0mfit\u001b[0m\u001b[0;34m(\u001b[0m\u001b[0mtest_data\u001b[0m\u001b[0;34m)\u001b[0m\u001b[0;34m\u001b[0m\u001b[0;34m\u001b[0m\u001b[0m\n\u001b[0m",
            "\u001b[0;32m/content/spark-3.0.0-bin-hadoop3.2/python/pyspark/ml/base.py\u001b[0m in \u001b[0;36mfit\u001b[0;34m(self, dataset, params)\u001b[0m\n\u001b[1;32m    127\u001b[0m                 \u001b[0;32mreturn\u001b[0m \u001b[0mself\u001b[0m\u001b[0;34m.\u001b[0m\u001b[0mcopy\u001b[0m\u001b[0;34m(\u001b[0m\u001b[0mparams\u001b[0m\u001b[0;34m)\u001b[0m\u001b[0;34m.\u001b[0m\u001b[0m_fit\u001b[0m\u001b[0;34m(\u001b[0m\u001b[0mdataset\u001b[0m\u001b[0;34m)\u001b[0m\u001b[0;34m\u001b[0m\u001b[0;34m\u001b[0m\u001b[0m\n\u001b[1;32m    128\u001b[0m             \u001b[0;32melse\u001b[0m\u001b[0;34m:\u001b[0m\u001b[0;34m\u001b[0m\u001b[0;34m\u001b[0m\u001b[0m\n\u001b[0;32m--> 129\u001b[0;31m                 \u001b[0;32mreturn\u001b[0m \u001b[0mself\u001b[0m\u001b[0;34m.\u001b[0m\u001b[0m_fit\u001b[0m\u001b[0;34m(\u001b[0m\u001b[0mdataset\u001b[0m\u001b[0;34m)\u001b[0m\u001b[0;34m\u001b[0m\u001b[0;34m\u001b[0m\u001b[0m\n\u001b[0m\u001b[1;32m    130\u001b[0m         \u001b[0;32melse\u001b[0m\u001b[0;34m:\u001b[0m\u001b[0;34m\u001b[0m\u001b[0;34m\u001b[0m\u001b[0m\n\u001b[1;32m    131\u001b[0m             raise ValueError(\"Params must be either a param map or a list/tuple of param maps, \"\n",
            "\u001b[0;32m/content/spark-3.0.0-bin-hadoop3.2/python/pyspark/ml/wrapper.py\u001b[0m in \u001b[0;36m_fit\u001b[0;34m(self, dataset)\u001b[0m\n\u001b[1;32m    319\u001b[0m \u001b[0;34m\u001b[0m\u001b[0m\n\u001b[1;32m    320\u001b[0m     \u001b[0;32mdef\u001b[0m \u001b[0m_fit\u001b[0m\u001b[0;34m(\u001b[0m\u001b[0mself\u001b[0m\u001b[0;34m,\u001b[0m \u001b[0mdataset\u001b[0m\u001b[0;34m)\u001b[0m\u001b[0;34m:\u001b[0m\u001b[0;34m\u001b[0m\u001b[0;34m\u001b[0m\u001b[0m\n\u001b[0;32m--> 321\u001b[0;31m         \u001b[0mjava_model\u001b[0m \u001b[0;34m=\u001b[0m \u001b[0mself\u001b[0m\u001b[0;34m.\u001b[0m\u001b[0m_fit_java\u001b[0m\u001b[0;34m(\u001b[0m\u001b[0mdataset\u001b[0m\u001b[0;34m)\u001b[0m\u001b[0;34m\u001b[0m\u001b[0;34m\u001b[0m\u001b[0m\n\u001b[0m\u001b[1;32m    322\u001b[0m         \u001b[0mmodel\u001b[0m \u001b[0;34m=\u001b[0m \u001b[0mself\u001b[0m\u001b[0;34m.\u001b[0m\u001b[0m_create_model\u001b[0m\u001b[0;34m(\u001b[0m\u001b[0mjava_model\u001b[0m\u001b[0;34m)\u001b[0m\u001b[0;34m\u001b[0m\u001b[0;34m\u001b[0m\u001b[0m\n\u001b[1;32m    323\u001b[0m         \u001b[0;32mreturn\u001b[0m \u001b[0mself\u001b[0m\u001b[0;34m.\u001b[0m\u001b[0m_copyValues\u001b[0m\u001b[0;34m(\u001b[0m\u001b[0mmodel\u001b[0m\u001b[0;34m)\u001b[0m\u001b[0;34m\u001b[0m\u001b[0;34m\u001b[0m\u001b[0m\n",
            "\u001b[0;32m/content/spark-3.0.0-bin-hadoop3.2/python/pyspark/ml/wrapper.py\u001b[0m in \u001b[0;36m_fit_java\u001b[0;34m(self, dataset)\u001b[0m\n\u001b[1;32m    316\u001b[0m         \"\"\"\n\u001b[1;32m    317\u001b[0m         \u001b[0mself\u001b[0m\u001b[0;34m.\u001b[0m\u001b[0m_transfer_params_to_java\u001b[0m\u001b[0;34m(\u001b[0m\u001b[0;34m)\u001b[0m\u001b[0;34m\u001b[0m\u001b[0;34m\u001b[0m\u001b[0m\n\u001b[0;32m--> 318\u001b[0;31m         \u001b[0;32mreturn\u001b[0m \u001b[0mself\u001b[0m\u001b[0;34m.\u001b[0m\u001b[0m_java_obj\u001b[0m\u001b[0;34m.\u001b[0m\u001b[0mfit\u001b[0m\u001b[0;34m(\u001b[0m\u001b[0mdataset\u001b[0m\u001b[0;34m.\u001b[0m\u001b[0m_jdf\u001b[0m\u001b[0;34m)\u001b[0m\u001b[0;34m\u001b[0m\u001b[0;34m\u001b[0m\u001b[0m\n\u001b[0m\u001b[1;32m    319\u001b[0m \u001b[0;34m\u001b[0m\u001b[0m\n\u001b[1;32m    320\u001b[0m     \u001b[0;32mdef\u001b[0m \u001b[0m_fit\u001b[0m\u001b[0;34m(\u001b[0m\u001b[0mself\u001b[0m\u001b[0;34m,\u001b[0m \u001b[0mdataset\u001b[0m\u001b[0;34m)\u001b[0m\u001b[0;34m:\u001b[0m\u001b[0;34m\u001b[0m\u001b[0;34m\u001b[0m\u001b[0m\n",
            "\u001b[0;32m/content/spark-3.0.0-bin-hadoop3.2/python/lib/py4j-0.10.9-src.zip/py4j/java_gateway.py\u001b[0m in \u001b[0;36m__call__\u001b[0;34m(self, *args)\u001b[0m\n\u001b[1;32m   1302\u001b[0m \u001b[0;34m\u001b[0m\u001b[0m\n\u001b[1;32m   1303\u001b[0m         \u001b[0manswer\u001b[0m \u001b[0;34m=\u001b[0m \u001b[0mself\u001b[0m\u001b[0;34m.\u001b[0m\u001b[0mgateway_client\u001b[0m\u001b[0;34m.\u001b[0m\u001b[0msend_command\u001b[0m\u001b[0;34m(\u001b[0m\u001b[0mcommand\u001b[0m\u001b[0;34m)\u001b[0m\u001b[0;34m\u001b[0m\u001b[0;34m\u001b[0m\u001b[0m\n\u001b[0;32m-> 1304\u001b[0;31m         return_value = get_return_value(\n\u001b[0m\u001b[1;32m   1305\u001b[0m             answer, self.gateway_client, self.target_id, self.name)\n\u001b[1;32m   1306\u001b[0m \u001b[0;34m\u001b[0m\u001b[0m\n",
            "\u001b[0;32m/content/spark-3.0.0-bin-hadoop3.2/python/pyspark/sql/utils.py\u001b[0m in \u001b[0;36mdeco\u001b[0;34m(*a, **kw)\u001b[0m\n\u001b[1;32m    129\u001b[0m     \u001b[0;32mdef\u001b[0m \u001b[0mdeco\u001b[0m\u001b[0;34m(\u001b[0m\u001b[0;34m*\u001b[0m\u001b[0ma\u001b[0m\u001b[0;34m,\u001b[0m \u001b[0;34m**\u001b[0m\u001b[0mkw\u001b[0m\u001b[0;34m)\u001b[0m\u001b[0;34m:\u001b[0m\u001b[0;34m\u001b[0m\u001b[0;34m\u001b[0m\u001b[0m\n\u001b[1;32m    130\u001b[0m         \u001b[0;32mtry\u001b[0m\u001b[0;34m:\u001b[0m\u001b[0;34m\u001b[0m\u001b[0;34m\u001b[0m\u001b[0m\n\u001b[0;32m--> 131\u001b[0;31m             \u001b[0;32mreturn\u001b[0m \u001b[0mf\u001b[0m\u001b[0;34m(\u001b[0m\u001b[0;34m*\u001b[0m\u001b[0ma\u001b[0m\u001b[0;34m,\u001b[0m \u001b[0;34m**\u001b[0m\u001b[0mkw\u001b[0m\u001b[0;34m)\u001b[0m\u001b[0;34m\u001b[0m\u001b[0;34m\u001b[0m\u001b[0m\n\u001b[0m\u001b[1;32m    132\u001b[0m         \u001b[0;32mexcept\u001b[0m \u001b[0mpy4j\u001b[0m\u001b[0;34m.\u001b[0m\u001b[0mprotocol\u001b[0m\u001b[0;34m.\u001b[0m\u001b[0mPy4JJavaError\u001b[0m \u001b[0;32mas\u001b[0m \u001b[0me\u001b[0m\u001b[0;34m:\u001b[0m\u001b[0;34m\u001b[0m\u001b[0;34m\u001b[0m\u001b[0m\n\u001b[1;32m    133\u001b[0m             \u001b[0mconverted\u001b[0m \u001b[0;34m=\u001b[0m \u001b[0mconvert_exception\u001b[0m\u001b[0;34m(\u001b[0m\u001b[0me\u001b[0m\u001b[0;34m.\u001b[0m\u001b[0mjava_exception\u001b[0m\u001b[0;34m)\u001b[0m\u001b[0;34m\u001b[0m\u001b[0;34m\u001b[0m\u001b[0m\n",
            "\u001b[0;32m/content/spark-3.0.0-bin-hadoop3.2/python/lib/py4j-0.10.9-src.zip/py4j/protocol.py\u001b[0m in \u001b[0;36mget_return_value\u001b[0;34m(answer, gateway_client, target_id, name)\u001b[0m\n\u001b[1;32m    324\u001b[0m             \u001b[0mvalue\u001b[0m \u001b[0;34m=\u001b[0m \u001b[0mOUTPUT_CONVERTER\u001b[0m\u001b[0;34m[\u001b[0m\u001b[0mtype\u001b[0m\u001b[0;34m]\u001b[0m\u001b[0;34m(\u001b[0m\u001b[0manswer\u001b[0m\u001b[0;34m[\u001b[0m\u001b[0;36m2\u001b[0m\u001b[0;34m:\u001b[0m\u001b[0;34m]\u001b[0m\u001b[0;34m,\u001b[0m \u001b[0mgateway_client\u001b[0m\u001b[0;34m)\u001b[0m\u001b[0;34m\u001b[0m\u001b[0;34m\u001b[0m\u001b[0m\n\u001b[1;32m    325\u001b[0m             \u001b[0;32mif\u001b[0m \u001b[0manswer\u001b[0m\u001b[0;34m[\u001b[0m\u001b[0;36m1\u001b[0m\u001b[0;34m]\u001b[0m \u001b[0;34m==\u001b[0m \u001b[0mREFERENCE_TYPE\u001b[0m\u001b[0;34m:\u001b[0m\u001b[0;34m\u001b[0m\u001b[0;34m\u001b[0m\u001b[0m\n\u001b[0;32m--> 326\u001b[0;31m                 raise Py4JJavaError(\n\u001b[0m\u001b[1;32m    327\u001b[0m                     \u001b[0;34m\"An error occurred while calling {0}{1}{2}.\\n\"\u001b[0m\u001b[0;34m.\u001b[0m\u001b[0;34m\u001b[0m\u001b[0;34m\u001b[0m\u001b[0m\n\u001b[1;32m    328\u001b[0m                     format(target_id, \".\", name), value)\n",
            "\u001b[0;31mPy4JJavaError\u001b[0m: An error occurred while calling o1954.fit.\n: org.apache.spark.SparkException: Job aborted due to stage failure: Task 0 in stage 98.0 failed 1 times, most recent failure: Lost task 0.0 in stage 98.0 (TID 94, 146854eb6fb7, executor driver): org.apache.spark.SparkException: Failed to execute user defined function(VectorAssembler$$Lambda$2962/1437836869: (struct<heart rate_double_VectorAssembler_89419c531470:double,Systolic blood pressure_double_VectorAssembler_89419c531470:double,deficiencyanemias_double_VectorAssembler_89419c531470:double,Blood potassium:double,hematocrit:double,EF_double_VectorAssembler_89419c531470:double,Urine output_double_VectorAssembler_89419c531470:double,Urea nitrogen:double,Creatinine:double,hypertensive_double_VectorAssembler_89419c531470:double,diabetes_double_VectorAssembler_89419c531470:double,Lactic acid_double_VectorAssembler_89419c531470:double>) => struct<type:tinyint,size:int,indices:array<int>,values:array<double>>)\n\tat org.apache.spark.sql.catalyst.expressions.GeneratedClass$GeneratedIteratorForCodegenStage1.sort_addToSorter_0$(Unknown Source)\n\tat org.apache.spark.sql.catalyst.expressions.GeneratedClass$GeneratedIteratorForCodegenStage1.processNext(Unknown Source)\n\tat org.apache.spark.sql.execution.BufferedRowIterator.hasNext(BufferedRowIterator.java:43)\n\tat org.apache.spark.sql.execution.WholeStageCodegenExec$$anon$1.hasNext(WholeStageCodegenExec.scala:729)\n\tat scala.collection.Iterator$$anon$10.hasNext(Iterator.scala:458)\n\tat scala.collection.Iterator$$anon$10.hasNext(Iterator.scala:458)\n\tat scala.collection.Iterator$$anon$10.hasNext(Iterator.scala:458)\n\tat scala.collection.Iterator.foreach(Iterator.scala:941)\n\tat scala.collection.Iterator.foreach$(Iterator.scala:941)\n\tat scala.collection.AbstractIterator.foreach(Iterator.scala:1429)\n\tat scala.collection.TraversableOnce.foldLeft(TraversableOnce.scala:162)\n\tat scala.collection.TraversableOnce.foldLeft$(TraversableOnce.scala:160)\n\tat scala.collection.AbstractIterator.foldLeft(Iterator.scala:1429)\n\tat scala.collection.TraversableOnce.aggregate(TraversableOnce.scala:219)\n\tat scala.collection.TraversableOnce.aggregate$(TraversableOnce.scala:219)\n\tat scala.collection.AbstractIterator.aggregate(Iterator.scala:1429)\n\tat org.apache.spark.rdd.RDD.$anonfun$treeAggregate$3(RDD.scala:1204)\n\tat org.apache.spark.rdd.RDD.$anonfun$treeAggregate$5(RDD.scala:1205)\n\tat org.apache.spark.rdd.RDD.$anonfun$mapPartitions$2(RDD.scala:837)\n\tat org.apache.spark.rdd.RDD.$anonfun$mapPartitions$2$adapted(RDD.scala:837)\n\tat org.apache.spark.rdd.MapPartitionsRDD.compute(MapPartitionsRDD.scala:52)\n\tat org.apache.spark.rdd.RDD.computeOrReadCheckpoint(RDD.scala:349)\n\tat org.apache.spark.rdd.RDD.iterator(RDD.scala:313)\n\tat org.apache.spark.scheduler.ResultTask.runTask(ResultTask.scala:90)\n\tat org.apache.spark.scheduler.Task.run(Task.scala:127)\n\tat org.apache.spark.executor.Executor$TaskRunner.$anonfun$run$3(Executor.scala:444)\n\tat org.apache.spark.util.Utils$.tryWithSafeFinally(Utils.scala:1377)\n\tat org.apache.spark.executor.Executor$TaskRunner.run(Executor.scala:447)\n\tat java.util.concurrent.ThreadPoolExecutor.runWorker(ThreadPoolExecutor.java:1149)\n\tat java.util.concurrent.ThreadPoolExecutor$Worker.run(ThreadPoolExecutor.java:624)\n\tat java.lang.Thread.run(Thread.java:750)\nCaused by: org.apache.spark.SparkException: Encountered null while assembling a row with handleInvalid = \"error\". Consider\nremoving nulls from dataset or using handleInvalid = \"keep\" or \"skip\".\n\tat org.apache.spark.ml.feature.VectorAssembler$.$anonfun$assemble$1(VectorAssembler.scala:291)\n\tat org.apache.spark.ml.feature.VectorAssembler$.$anonfun$assemble$1$adapted(VectorAssembler.scala:260)\n\tat scala.collection.IndexedSeqOptimized.foreach(IndexedSeqOptimized.scala:36)\n\tat scala.collection.IndexedSeqOptimized.foreach$(IndexedSeqOptimized.scala:33)\n\tat scala.collection.mutable.WrappedArray.foreach(WrappedArray.scala:38)\n\tat org.apache.spark.ml.feature.VectorAssembler$.assemble(VectorAssembler.scala:260)\n\tat org.apache.spark.ml.feature.VectorAssembler.$anonfun$transform$6(VectorAssembler.scala:143)\n\t... 31 more\n\nDriver stacktrace:\n\tat org.apache.spark.scheduler.DAGScheduler.failJobAndIndependentStages(DAGScheduler.scala:2023)\n\tat org.apache.spark.scheduler.DAGScheduler.$anonfun$abortStage$2(DAGScheduler.scala:1972)\n\tat org.apache.spark.scheduler.DAGScheduler.$anonfun$abortStage$2$adapted(DAGScheduler.scala:1971)\n\tat scala.collection.mutable.ResizableArray.foreach(ResizableArray.scala:62)\n\tat scala.collection.mutable.ResizableArray.foreach$(ResizableArray.scala:55)\n\tat scala.collection.mutable.ArrayBuffer.foreach(ArrayBuffer.scala:49)\n\tat org.apache.spark.scheduler.DAGScheduler.abortStage(DAGScheduler.scala:1971)\n\tat org.apache.spark.scheduler.DAGScheduler.$anonfun$handleTaskSetFailed$1(DAGScheduler.scala:950)\n\tat org.apache.spark.scheduler.DAGScheduler.$anonfun$handleTaskSetFailed$1$adapted(DAGScheduler.scala:950)\n\tat scala.Option.foreach(Option.scala:407)\n\tat org.apache.spark.scheduler.DAGScheduler.handleTaskSetFailed(DAGScheduler.scala:950)\n\tat org.apache.spark.scheduler.DAGSchedulerEventProcessLoop.doOnReceive(DAGScheduler.scala:2203)\n\tat org.apache.spark.scheduler.DAGSchedulerEventProcessLoop.onReceive(DAGScheduler.scala:2152)\n\tat org.apache.spark.scheduler.DAGSchedulerEventProcessLoop.onReceive(DAGScheduler.scala:2141)\n\tat org.apache.spark.util.EventLoop$$anon$1.run(EventLoop.scala:49)\n\tat org.apache.spark.scheduler.DAGScheduler.runJob(DAGScheduler.scala:752)\n\tat org.apache.spark.SparkContext.runJob(SparkContext.scala:2093)\n\tat org.apache.spark.SparkContext.runJob(SparkContext.scala:2188)\n\tat org.apache.spark.rdd.RDD.$anonfun$fold$1(RDD.scala:1157)\n\tat org.apache.spark.rdd.RDDOperationScope$.withScope(RDDOperationScope.scala:151)\n\tat org.apache.spark.rdd.RDDOperationScope$.withScope(RDDOperationScope.scala:112)\n\tat org.apache.spark.rdd.RDD.withScope(RDD.scala:388)\n\tat org.apache.spark.rdd.RDD.fold(RDD.scala:1151)\n\tat org.apache.spark.rdd.RDD.$anonfun$treeAggregate$1(RDD.scala:1220)\n\tat org.apache.spark.rdd.RDDOperationScope$.withScope(RDDOperationScope.scala:151)\n\tat org.apache.spark.rdd.RDDOperationScope$.withScope(RDDOperationScope.scala:112)\n\tat org.apache.spark.rdd.RDD.withScope(RDD.scala:388)\n\tat org.apache.spark.rdd.RDD.treeAggregate(RDD.scala:1196)\n\tat org.apache.spark.ml.optim.WeightedLeastSquares.fit(WeightedLeastSquares.scala:107)\n\tat org.apache.spark.ml.regression.LinearRegression.$anonfun$train$1(LinearRegression.scala:340)\n\tat org.apache.spark.ml.util.Instrumentation$.$anonfun$instrumented$1(Instrumentation.scala:191)\n\tat scala.util.Try$.apply(Try.scala:213)\n\tat org.apache.spark.ml.util.Instrumentation$.instrumented(Instrumentation.scala:191)\n\tat org.apache.spark.ml.regression.LinearRegression.train(LinearRegression.scala:319)\n\tat org.apache.spark.ml.regression.LinearRegression.train(LinearRegression.scala:176)\n\tat org.apache.spark.ml.Predictor.fit(Predictor.scala:150)\n\tat sun.reflect.NativeMethodAccessorImpl.invoke0(Native Method)\n\tat sun.reflect.NativeMethodAccessorImpl.invoke(NativeMethodAccessorImpl.java:62)\n\tat sun.reflect.DelegatingMethodAccessorImpl.invoke(DelegatingMethodAccessorImpl.java:43)\n\tat java.lang.reflect.Method.invoke(Method.java:498)\n\tat py4j.reflection.MethodInvoker.invoke(MethodInvoker.java:244)\n\tat py4j.reflection.ReflectionEngine.invoke(ReflectionEngine.java:357)\n\tat py4j.Gateway.invoke(Gateway.java:282)\n\tat py4j.commands.AbstractCommand.invokeMethod(AbstractCommand.java:132)\n\tat py4j.commands.CallCommand.execute(CallCommand.java:79)\n\tat py4j.GatewayConnection.run(GatewayConnection.java:238)\n\tat java.lang.Thread.run(Thread.java:750)\nCaused by: org.apache.spark.SparkException: Failed to execute user defined function(VectorAssembler$$Lambda$2962/1437836869: (struct<heart rate_double_VectorAssembler_89419c531470:double,Systolic blood pressure_double_VectorAssembler_89419c531470:double,deficiencyanemias_double_VectorAssembler_89419c531470:double,Blood potassium:double,hematocrit:double,EF_double_VectorAssembler_89419c531470:double,Urine output_double_VectorAssembler_89419c531470:double,Urea nitrogen:double,Creatinine:double,hypertensive_double_VectorAssembler_89419c531470:double,diabetes_double_VectorAssembler_89419c531470:double,Lactic acid_double_VectorAssembler_89419c531470:double>) => struct<type:tinyint,size:int,indices:array<int>,values:array<double>>)\n\tat org.apache.spark.sql.catalyst.expressions.GeneratedClass$GeneratedIteratorForCodegenStage1.sort_addToSorter_0$(Unknown Source)\n\tat org.apache.spark.sql.catalyst.expressions.GeneratedClass$GeneratedIteratorForCodegenStage1.processNext(Unknown Source)\n\tat org.apache.spark.sql.execution.BufferedRowIterator.hasNext(BufferedRowIterator.java:43)\n\tat org.apache.spark.sql.execution.WholeStageCodegenExec$$anon$1.hasNext(WholeStageCodegenExec.scala:729)\n\tat scala.collection.Iterator$$anon$10.hasNext(Iterator.scala:458)\n\tat scala.collection.Iterator$$anon$10.hasNext(Iterator.scala:458)\n\tat scala.collection.Iterator$$anon$10.hasNext(Iterator.scala:458)\n\tat scala.collection.Iterator.foreach(Iterator.scala:941)\n\tat scala.collection.Iterator.foreach$(Iterator.scala:941)\n\tat scala.collection.AbstractIterator.foreach(Iterator.scala:1429)\n\tat scala.collection.TraversableOnce.foldLeft(TraversableOnce.scala:162)\n\tat scala.collection.TraversableOnce.foldLeft$(TraversableOnce.scala:160)\n\tat scala.collection.AbstractIterator.foldLeft(Iterator.scala:1429)\n\tat scala.collection.TraversableOnce.aggregate(TraversableOnce.scala:219)\n\tat scala.collection.TraversableOnce.aggregate$(TraversableOnce.scala:219)\n\tat scala.collection.AbstractIterator.aggregate(Iterator.scala:1429)\n\tat org.apache.spark.rdd.RDD.$anonfun$treeAggregate$3(RDD.scala:1204)\n\tat org.apache.spark.rdd.RDD.$anonfun$treeAggregate$5(RDD.scala:1205)\n\tat org.apache.spark.rdd.RDD.$anonfun$mapPartitions$2(RDD.scala:837)\n\tat org.apache.spark.rdd.RDD.$anonfun$mapPartitions$2$adapted(RDD.scala:837)\n\tat org.apache.spark.rdd.MapPartitionsRDD.compute(MapPartitionsRDD.scala:52)\n\tat org.apache.spark.rdd.RDD.computeOrReadCheckpoint(RDD.scala:349)\n\tat org.apache.spark.rdd.RDD.iterator(RDD.scala:313)\n\tat org.apache.spark.scheduler.ResultTask.runTask(ResultTask.scala:90)\n\tat org.apache.spark.scheduler.Task.run(Task.scala:127)\n\tat org.apache.spark.executor.Executor$TaskRunner.$anonfun$run$3(Executor.scala:444)\n\tat org.apache.spark.util.Utils$.tryWithSafeFinally(Utils.scala:1377)\n\tat org.apache.spark.executor.Executor$TaskRunner.run(Executor.scala:447)\n\tat java.util.concurrent.ThreadPoolExecutor.runWorker(ThreadPoolExecutor.java:1149)\n\tat java.util.concurrent.ThreadPoolExecutor$Worker.run(ThreadPoolExecutor.java:624)\n\t... 1 more\nCaused by: org.apache.spark.SparkException: Encountered null while assembling a row with handleInvalid = \"error\". Consider\nremoving nulls from dataset or using handleInvalid = \"keep\" or \"skip\".\n\tat org.apache.spark.ml.feature.VectorAssembler$.$anonfun$assemble$1(VectorAssembler.scala:291)\n\tat org.apache.spark.ml.feature.VectorAssembler$.$anonfun$assemble$1$adapted(VectorAssembler.scala:260)\n\tat scala.collection.IndexedSeqOptimized.foreach(IndexedSeqOptimized.scala:36)\n\tat scala.collection.IndexedSeqOptimized.foreach$(IndexedSeqOptimized.scala:33)\n\tat scala.collection.mutable.WrappedArray.foreach(WrappedArray.scala:38)\n\tat org.apache.spark.ml.feature.VectorAssembler$.assemble(VectorAssembler.scala:260)\n\tat org.apache.spark.ml.feature.VectorAssembler.$anonfun$transform$6(VectorAssembler.scala:143)\n\t... 31 more\n"
          ]
        }
      ]
    },
    {
      "cell_type": "code",
      "source": [],
      "metadata": {
        "id": "YDXWOpbQl9OY"
      },
      "execution_count": null,
      "outputs": []
    }
  ]
}